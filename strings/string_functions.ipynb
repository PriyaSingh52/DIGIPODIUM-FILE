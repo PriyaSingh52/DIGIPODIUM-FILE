{
 "cells": [
  {
   "cell_type": "markdown",
   "metadata": {},
   "source": []
  },
  {
   "cell_type": "code",
   "execution_count": 34,
   "metadata": {},
   "outputs": [],
   "source": [
    "msg = ''' Google Search is a search engine provided by Google. Handling more than 3.5billion searches per\n",
    "     day, it has a 90% share of the global search engine market. It is also the most-visited website in \n",
    "     the world.'''"
   ]
  },
  {
   "cell_type": "code",
   "execution_count": 35,
   "metadata": {},
   "outputs": [
    {
     "name": "stdout",
     "output_type": "stream",
     "text": [
      "total characters:217\n"
     ]
    }
   ],
   "source": [
    "chars = len(msg)\n",
    "print(f'total characters:{chars}')"
   ]
  },
  {
   "cell_type": "code",
   "execution_count": 36,
   "metadata": {},
   "outputs": [
    {
     "data": {
      "text/plain": [
       "-1"
      ]
     },
     "execution_count": 36,
     "metadata": {},
     "output_type": "execute_result"
    }
   ],
   "source": [
    "msg.find('experience')"
   ]
  },
  {
   "cell_type": "code",
   "execution_count": 49,
   "metadata": {},
   "outputs": [
    {
     "data": {
      "text/plain": [
       "46"
      ]
     },
     "execution_count": 49,
     "metadata": {},
     "output_type": "execute_result"
    }
   ],
   "source": [
    "msg.rfind('Google')"
   ]
  },
  {
   "cell_type": "code",
   "execution_count": 38,
   "metadata": {},
   "outputs": [
    {
     "data": {
      "text/plain": [
       "-1"
      ]
     },
     "execution_count": 38,
     "metadata": {},
     "output_type": "execute_result"
    }
   ],
   "source": [
    "msg.find('poogle')"
   ]
  },
  {
   "cell_type": "code",
   "execution_count": 39,
   "metadata": {},
   "outputs": [
    {
     "data": {
      "text/plain": [
       "'Handling more than 3.5billion searches per\\n     day, it has a 90% share of the global search engine market. It is also the most-visited website in \\n     the world.'"
      ]
     },
     "execution_count": 39,
     "metadata": {},
     "output_type": "execute_result"
    }
   ],
   "source": [
    "idx = msg.find('Handling')\n",
    "msg[idx:]"
   ]
  },
  {
   "cell_type": "code",
   "execution_count": 40,
   "metadata": {},
   "outputs": [
    {
     "data": {
      "text/plain": [
       "'90% share of the global search engine market. It is also the most-visited website in \\n     the world.'"
      ]
     },
     "execution_count": 40,
     "metadata": {},
     "output_type": "execute_result"
    }
   ],
   "source": [
    "msg[msg.find('90%'):]"
   ]
  },
  {
   "cell_type": "code",
   "execution_count": 41,
   "metadata": {},
   "outputs": [
    {
     "name": "stdout",
     "output_type": "stream",
     "text": [
      " Microsoft Search is a search engine provided by Microsoft. Handling more than 3.5billion searches per\n",
      "     day, it has a 90% share of the global search engine market. It is also the most-visited website in \n",
      "     the world.\n"
     ]
    }
   ],
   "source": [
    "result = msg.replace(\"Google\" , \"Microsoft\")\n",
    "print(result)"
   ]
  },
  {
   "cell_type": "code",
   "execution_count": 42,
   "metadata": {},
   "outputs": [
    {
     "name": "stdout",
     "output_type": "stream",
     "text": [
      "result2 =  Meta Search is a Rescue engine provided by Meta. Handling more than 3.5billion Rescuees per\n",
      "     day, it has a 90% share of the global Rescue engine market. It is also the most-visited website in \n",
      "     the world.\n"
     ]
    }
   ],
   "source": [
    "result2 = msg.replace('was' ,'is').replace('search',\"Rescue\").replace(\"Google\",\"Meta\")\n",
    "print(f'result2 = {result2}')"
   ]
  },
  {
   "cell_type": "code",
   "execution_count": 50,
   "metadata": {},
   "outputs": [
    {
     "data": {
      "text/plain": [
       "14"
      ]
     },
     "execution_count": 50,
     "metadata": {},
     "output_type": "execute_result"
    }
   ],
   "source": [
    "msg.count('a')"
   ]
  },
  {
   "cell_type": "code",
   "execution_count": 51,
   "metadata": {},
   "outputs": [
    {
     "data": {
      "text/plain": [
       "2"
      ]
     },
     "execution_count": 51,
     "metadata": {},
     "output_type": "execute_result"
    }
   ],
   "source": [
    "msg.count('Google')"
   ]
  },
  {
   "cell_type": "code",
   "execution_count": null,
   "metadata": {},
   "outputs": [],
   "source": []
  },
  {
   "cell_type": "code",
   "execution_count": 44,
   "metadata": {},
   "outputs": [
    {
     "name": "stdout",
     "output_type": "stream",
     "text": [
      "['Google', 'Search', 'is', 'a', 'search', 'engine', 'provided', 'by', 'Google.', 'Handling', 'more', 'than', '3.5billion', 'searches', 'per', 'day,', 'it', 'has', 'a', '90%', 'share', 'of', 'the', 'global', 'search', 'engine', 'market.', 'It', 'is', 'also', 'the', 'most-visited', 'website', 'in', 'the', 'world.']\n"
     ]
    }
   ],
   "source": [
    "words=msg.split()\n",
    "print(words)"
   ]
  },
  {
   "cell_type": "code",
   "execution_count": 45,
   "metadata": {},
   "outputs": [
    {
     "name": "stdout",
     "output_type": "stream",
     "text": [
      "[' Google Search is a search engine provided by Google. Handling more than 3.5billion searches per', '     day, it has a 90% share of the global search engine market. It is also the most-visited website in ', '     the world.']\n"
     ]
    }
   ],
   "source": [
    "lines = msg.splitlines()\n",
    "print(lines)"
   ]
  },
  {
   "cell_type": "markdown",
   "metadata": {},
   "source": []
  },
  {
   "cell_type": "code",
   "execution_count": 47,
   "metadata": {},
   "outputs": [
    {
     "data": {
      "text/plain": [
       "[' Google Search is a search engine provided by Google. Handling more than 3.5billion searches per\\n     day',\n",
       " ' it has a 90% share of the global search engine market. It is also the most-visited website in \\n     the world.']"
      ]
     },
     "execution_count": 47,
     "metadata": {},
     "output_type": "execute_result"
    }
   ],
   "source": [
    "msg.split(',')"
   ]
  },
  {
   "cell_type": "code",
   "execution_count": 48,
   "metadata": {},
   "outputs": [
    {
     "name": "stdout",
     "output_type": "stream",
     "text": [
      "name-> ,nm\n",
      "name-> ,nm\n",
      "name-> ,nm\n",
      "name-> ,nm\n",
      "name-> ,nm\n"
     ]
    }
   ],
   "source": [
    "names = \"A, B, C, D, E\"  #str\n",
    "names_list = names.split(\",\") #list\n",
    "for nm in names_list:\n",
    "    print('name-> ,nm')"
   ]
  },
  {
   "cell_type": "code",
   "execution_count": 25,
   "metadata": {},
   "outputs": [
    {
     "name": "stdout",
     "output_type": "stream",
     "text": [
      "<built-in method split of str object at 0x00000265455E91B0>\n"
     ]
    }
   ],
   "source": [
    "# split\n",
    "items = input(\"enter 5 items seperated by space\").split\n",
    "print(items)"
   ]
  },
  {
   "cell_type": "code",
   "execution_count": 26,
   "metadata": {},
   "outputs": [
    {
     "name": "stdout",
     "output_type": "stream",
     "text": [
      "Python -m textblob\n",
      "Python -m textblob\n",
      "Python -m textblob\n",
      "Python___________ -m___________ textblob\n"
     ]
    }
   ],
   "source": [
    "data_list = ['Python','-m', 'textblob']\n",
    "\n",
    "result = \" \".join(data_list)\n",
    "print(result)\n",
    "result = \" \".join(data_list)\n",
    "print(result)\n",
    "result = \" \".join(data_list)\n",
    "print(result)\n",
    "result = \"___________ \".join(data_list)\n",
    "print(result)\n"
   ]
  },
  {
   "cell_type": "code",
   "execution_count": 27,
   "metadata": {},
   "outputs": [
    {
     "name": "stdout",
     "output_type": "stream",
     "text": [
      " GOOGLE SEARCH IS A SEARCH ENGINE PROVIDED BY GOOGLE. HANDLING MORE THAN 3.5BILLION SEARCHES PER\n",
      "     DAY, IT HAS A 90% SHARE OF THE GLOBAL SEARCH ENGINE MARKET. IT IS ALSO THE MOST-VISITED WEBSITE IN \n",
      "     THE WORLD.\n",
      "Python___________ -m___________ textblob\n"
     ]
    }
   ],
   "source": [
    "print(msg.upper())\n",
    "print(result)"
   ]
  },
  {
   "cell_type": "code",
   "execution_count": 28,
   "metadata": {},
   "outputs": [
    {
     "name": "stdout",
     "output_type": "stream",
     "text": [
      " google search is a search engine provided by google. handling more than 3.5billion searches per\n",
      "     day, it has a 90% share of the global search engine market. it is also the most-visited website in \n",
      "     the world.\n",
      "Python___________ -m___________ textblob\n"
     ]
    }
   ],
   "source": [
    "print(msg.capitalize())\n",
    "print(result)"
   ]
  },
  {
   "cell_type": "code",
   "execution_count": 29,
   "metadata": {},
   "outputs": [
    {
     "name": "stdout",
     "output_type": "stream",
     "text": [
      " Google Search Is A Search Engine Provided By Google. Handling More Than 3.5Billion Searches Per\n",
      "     Day, It Has A 90% Share Of The Global Search Engine Market. It Is Also The Most-Visited Website In \n",
      "     The World.\n",
      "Python___________ -m___________ textblob\n"
     ]
    }
   ],
   "source": [
    "print(msg.title())\n",
    "print(result)"
   ]
  },
  {
   "cell_type": "code",
   "execution_count": 30,
   "metadata": {},
   "outputs": [
    {
     "name": "stdout",
     "output_type": "stream",
     "text": [
      " google search is a search engine provided by google. handling more than 3.5billion searches per\n",
      "     day, it has a 90% share of the global search engine market. it is also the most-visited website in \n",
      "     the world.\n",
      "Python___________ -m___________ textblob\n"
     ]
    }
   ],
   "source": [
    "print(msg.lower())\n",
    "print(result)"
   ]
  },
  {
   "cell_type": "code",
   "execution_count": 31,
   "metadata": {},
   "outputs": [
    {
     "name": "stdout",
     "output_type": "stream",
     "text": [
      " GOOGLE SEARCH IS A SEARCH ENGINE PROVIDED BY GOOGLE. HANDLING MORE THAN 3.5BILLION SEARCHES PER\n",
      "     DAY, IT HAS A 90% SHARE OF THE GLOBAL SEARCH ENGINE MARKET. IT IS ALSO THE MOST-VISITED WEBSITE IN \n",
      "     THE WORLD.\n",
      "Python___________ -m___________ textblob\n"
     ]
    }
   ],
   "source": [
    "print(msg.upper())\n",
    "print(result)"
   ]
  },
  {
   "cell_type": "code",
   "execution_count": 32,
   "metadata": {},
   "outputs": [
    {
     "name": "stdout",
     "output_type": "stream",
     "text": [
      " gOOGLE sEARCH IS A SEARCH ENGINE PROVIDED BY gOOGLE. hANDLING MORE THAN 3.5BILLION SEARCHES PER\n",
      "     DAY, IT HAS A 90% SHARE OF THE GLOBAL SEARCH ENGINE MARKET. iT IS ALSO THE MOST-VISITED WEBSITE IN \n",
      "     THE WORLD.\n",
      "Python___________ -m___________ textblob\n"
     ]
    }
   ],
   "source": [
    "print(msg.swapcase())\n",
    "print(result)"
   ]
  },
  {
   "cell_type": "code",
   "execution_count": 33,
   "metadata": {},
   "outputs": [
    {
     "name": "stdout",
     "output_type": "stream",
     "text": [
      " gOOGLE sEBRCH iS a sEBRCH eNGINE pROVIDED bY gOOGLE. hBNDLING mORE tHBN 3.5bILLION sEBRCHES pER\n",
      "     dBY, iT hBS a 90% sHBRE oF tHE gLOBBL sEBRCH eNGINE mBRKET. iT iS aLSO tHE mOST-vISITED wEBSITE iN \n",
      "     tHE wORLD.\n"
     ]
    }
   ],
   "source": [
    "print(msg.title().swapcase().replace('A', 'B'))\n"
   ]
  }
 ],
 "metadata": {
  "interpreter": {
   "hash": "c5e48f84046969b800ff52f6d80523bcd1ca3fb1a99f1449e4197bf6c73dc096"
  },
  "kernelspec": {
   "display_name": "Python 3.8.5 64-bit (system)",
   "language": "python",
   "name": "python3"
  },
  "language_info": {
   "codemirror_mode": {
    "name": "ipython",
    "version": 3
   },
   "file_extension": ".py",
   "mimetype": "text/x-python",
   "name": "python",
   "nbconvert_exporter": "python",
   "pygments_lexer": "ipython3",
   "version": "3.8.5"
  },
  "orig_nbformat": 4
 },
 "nbformat": 4,
 "nbformat_minor": 2
}
