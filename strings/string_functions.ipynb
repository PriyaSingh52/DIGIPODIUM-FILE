{
 "cells": [
  {
   "cell_type": "markdown",
   "metadata": {},
   "source": []
  },
  {
   "cell_type": "code",
   "execution_count": 20,
   "metadata": {},
   "outputs": [],
   "source": [
    "msg = ''' Google Search is a search engine provided by Google. Handling more than 3.5billion searches per day, it has a 92% share \n",
    "of the global search engine market. It is also the most-visited website in the world.'''"
   ]
  },
  {
   "cell_type": "code",
   "execution_count": 21,
   "metadata": {},
   "outputs": [
    {
     "name": "stdout",
     "output_type": "stream",
     "text": [
      "total characters:207\n"
     ]
    }
   ],
   "source": [
    "chars = len(msg)\n",
    "print(f'total characters:{chars}')"
   ]
  },
  {
   "cell_type": "code",
   "execution_count": 22,
   "metadata": {},
   "outputs": [
    {
     "data": {
      "text/plain": [
       "-1"
      ]
     },
     "execution_count": 22,
     "metadata": {},
     "output_type": "execute_result"
    }
   ],
   "source": [
    "msg.find('experience')"
   ]
  },
  {
   "cell_type": "code",
   "execution_count": 24,
   "metadata": {},
   "outputs": [
    {
     "ename": "SyntaxError",
     "evalue": "invalid syntax (<ipython-input-24-f38fd4698547>, line 1)",
     "output_type": "error",
     "traceback": [
      "\u001b[1;36m  File \u001b[1;32m\"<ipython-input-24-f38fd4698547>\"\u001b[1;36m, line \u001b[1;32m1\u001b[0m\n\u001b[1;33m    idx = msg.find(92%)\u001b[0m\n\u001b[1;37m                      ^\u001b[0m\n\u001b[1;31mSyntaxError\u001b[0m\u001b[1;31m:\u001b[0m invalid syntax\n"
     ]
    }
   ],
   "source": [
    "idx = msg.find(92%)"
   ]
  },
  {
   "cell_type": "code",
   "execution_count": null,
   "metadata": {},
   "outputs": [
    {
     "ename": "NameError",
     "evalue": "name 'msg' is not defined",
     "output_type": "error",
     "traceback": [
      "\u001b[1;31m---------------------------------------------------------------------------\u001b[0m",
      "\u001b[1;31mNameError\u001b[0m                                 Traceback (most recent call last)",
      "\u001b[1;32m<ipython-input-8-8a886db20f58>\u001b[0m in \u001b[0;36m<module>\u001b[1;34m\u001b[0m\n\u001b[1;32m----> 1\u001b[1;33m \u001b[0mprint\u001b[0m\u001b[1;33m(\u001b[0m\u001b[0mmsg\u001b[0m\u001b[1;33m)\u001b[0m\u001b[1;33m\u001b[0m\u001b[1;33m\u001b[0m\u001b[0m\n\u001b[0m",
      "\u001b[1;31mNameError\u001b[0m: name 'msg' is not defined"
     ]
    }
   ],
   "source": [
    "print(msg)"
   ]
  },
  {
   "cell_type": "code",
   "execution_count": null,
   "metadata": {},
   "outputs": [],
   "source": [
    "result = msg.replace(\"Google\" , \"Microsoft\")\n",
    "print(result)"
   ]
  },
  {
   "cell_type": "code",
   "execution_count": null,
   "metadata": {},
   "outputs": [
    {
     "name": "stdout",
     "output_type": "stream",
     "text": [
      "result2 =  Meta Search is a Rescue engine provided by Meta. Handling more than 3.5\n",
      " billion Rescuees per day, it has a 92% share \n",
      "of the global Rescue engine market. It is also the most-visited website in the world.\n"
     ]
    }
   ],
   "source": [
    "result2 = msg.replace('was' ,'is').replace('search',\"Rescue\").replace(\"Google\",\"Meta\")\n",
    "print(f'result2 = {result2}')"
   ]
  },
  {
   "cell_type": "code",
   "execution_count": null,
   "metadata": {},
   "outputs": [],
   "source": [
    "msg"
   ]
  },
  {
   "cell_type": "code",
   "execution_count": null,
   "metadata": {},
   "outputs": [],
   "source": []
  },
  {
   "cell_type": "code",
   "execution_count": null,
   "metadata": {},
   "outputs": [],
   "source": []
  },
  {
   "cell_type": "code",
   "execution_count": 32,
   "metadata": {},
   "outputs": [
    {
     "name": "stdout",
     "output_type": "stream",
     "text": [
      "['Google', 'Search', 'is', 'a', 'search', 'engine', 'provided', 'by', 'Google.', 'Handling', 'more', 'than', '3.5billion', 'searches', 'per', 'day,', 'it', 'has', 'a', '92%', 'share', 'of', 'the', 'global', 'search', 'engine', 'market.', 'It', 'is', 'also', 'the', 'most-visited', 'website', 'in', 'the', 'world.']\n"
     ]
    }
   ],
   "source": [
    "words=msg.split()\n",
    "print(words)"
   ]
  },
  {
   "cell_type": "code",
   "execution_count": 33,
   "metadata": {},
   "outputs": [
    {
     "name": "stdout",
     "output_type": "stream",
     "text": [
      "[' Google Search is a search engine provided by Google. Handling more than 3.5billion searches per day, it has a 92% share ', 'of the global search engine market. It is also the most-visited website in the world.']\n"
     ]
    }
   ],
   "source": [
    "lines = msg.splitlines()\n",
    "print(lines)"
   ]
  },
  {
   "cell_type": "markdown",
   "metadata": {},
   "source": []
  },
  {
   "cell_type": "code",
   "execution_count": 30,
   "metadata": {},
   "outputs": [
    {
     "name": "stdout",
     "output_type": "stream",
     "text": [
      "[' Google Search is a search engine provided by Google. Handling more than 3.5billion searches per day, it has a 92% share ', 'of the global search engine market. It is also the most-visited website in the world.']\n"
     ]
    }
   ],
   "source": [
    "lines = msg.splitlines()\n",
    "print(lines)"
   ]
  },
  {
   "cell_type": "code",
   "execution_count": null,
   "metadata": {},
   "outputs": [],
   "source": [
    "msg.split(',')"
   ]
  },
  {
   "cell_type": "code",
   "execution_count": 35,
   "metadata": {},
   "outputs": [
    {
     "name": "stdout",
     "output_type": "stream",
     "text": [
      "name-> ,nm\n",
      "name-> ,nm\n",
      "name-> ,nm\n",
      "name-> ,nm\n",
      "name-> ,nm\n"
     ]
    }
   ],
   "source": [
    "names = \"A, B, C, D, E\"  #str\n",
    "names_list = names.split(\",\") #list\n",
    "for nm in names_list:\n",
    "    print('name-> ,nm')"
   ]
  },
  {
   "cell_type": "code",
   "execution_count": null,
   "metadata": {},
   "outputs": [
    {
     "name": "stdout",
     "output_type": "stream",
     "text": [
      "<built-in method split of str object at 0x00000229D75581F0>\n"
     ]
    }
   ],
   "source": [
    "# split\n",
    "items = input(\"enter 5 items seperated by space\").split\n",
    "print(items)"
   ]
  },
  {
   "cell_type": "code",
   "execution_count": null,
   "metadata": {},
   "outputs": [
    {
     "name": "stdout",
     "output_type": "stream",
     "text": [
      "Python -m textblob\n",
      "Python -m textblob\n",
      "Python -m textblob\n",
      "Python___________ -m___________ textblob\n"
     ]
    }
   ],
   "source": [
    "data_list = ['Python','-m', 'textblob']\n",
    "\n",
    "result = \" \".join(data_list)\n",
    "print(result)\n",
    "result = \" \".join(data_list)\n",
    "print(result)\n",
    "result = \" \".join(data_list)\n",
    "print(result)\n",
    "result = \"___________ \".join(data_list)\n",
    "print(result)\n"
   ]
  },
  {
   "cell_type": "code",
   "execution_count": 25,
   "metadata": {},
   "outputs": [
    {
     "name": "stdout",
     "output_type": "stream",
     "text": [
      " GOOGLE SEARCH IS A SEARCH ENGINE PROVIDED BY GOOGLE. HANDLING MORE THAN 3.5BILLION SEARCHES PER DAY, IT HAS A 92% SHARE \n",
      "OF THE GLOBAL SEARCH ENGINE MARKET. IT IS ALSO THE MOST-VISITED WEBSITE IN THE WORLD.\n",
      "Python___________ -m___________ textblob\n"
     ]
    }
   ],
   "source": [
    "print(msg.upper())\n",
    "print(result)"
   ]
  },
  {
   "cell_type": "code",
   "execution_count": 26,
   "metadata": {},
   "outputs": [
    {
     "name": "stdout",
     "output_type": "stream",
     "text": [
      " google search is a search engine provided by google. handling more than 3.5billion searches per day, it has a 92% share \n",
      "of the global search engine market. it is also the most-visited website in the world.\n",
      "Python___________ -m___________ textblob\n"
     ]
    }
   ],
   "source": [
    "print(msg.capitalize())\n",
    "print(result)"
   ]
  },
  {
   "cell_type": "code",
   "execution_count": 29,
   "metadata": {},
   "outputs": [
    {
     "name": "stdout",
     "output_type": "stream",
     "text": [
      " Google Search Is A Search Engine Provided By Google. Handling More Than 3.5Billion Searches Per Day, It Has A 92% Share \n",
      "Of The Global Search Engine Market. It Is Also The Most-Visited Website In The World.\n",
      "Python___________ -m___________ textblob\n"
     ]
    }
   ],
   "source": [
    "print(msg.title())\n",
    "print(result)"
   ]
  },
  {
   "cell_type": "code",
   "execution_count": 27,
   "metadata": {},
   "outputs": [
    {
     "name": "stdout",
     "output_type": "stream",
     "text": [
      " google search is a search engine provided by google. handling more than 3.5billion searches per day, it has a 92% share \n",
      "of the global search engine market. it is also the most-visited website in the world.\n",
      "Python___________ -m___________ textblob\n"
     ]
    }
   ],
   "source": [
    "print(msg.lower())\n",
    "print(result)"
   ]
  },
  {
   "cell_type": "code",
   "execution_count": null,
   "metadata": {},
   "outputs": [],
   "source": [
    "print(msg.upper())\n",
    "print(result)"
   ]
  },
  {
   "cell_type": "code",
   "execution_count": 28,
   "metadata": {},
   "outputs": [
    {
     "name": "stdout",
     "output_type": "stream",
     "text": [
      " gOOGLE sEARCH IS A SEARCH ENGINE PROVIDED BY gOOGLE. hANDLING MORE THAN 3.5BILLION SEARCHES PER DAY, IT HAS A 92% SHARE \n",
      "OF THE GLOBAL SEARCH ENGINE MARKET. iT IS ALSO THE MOST-VISITED WEBSITE IN THE WORLD.\n",
      "Python___________ -m___________ textblob\n"
     ]
    }
   ],
   "source": [
    "print(msg.swapcase())\n",
    "print(result)"
   ]
  },
  {
   "cell_type": "code",
   "execution_count": 36,
   "metadata": {},
   "outputs": [
    {
     "name": "stdout",
     "output_type": "stream",
     "text": [
      " gOOGLE sEBRCH iS a sEBRCH eNGINE pROVIDED bY gOOGLE. hBNDLING mORE tHBN 3.5bILLION sEBRCHES pER dBY, iT hBS a 92% sHBRE \n",
      "oF tHE gLOBBL sEBRCH eNGINE mBRKET. iT iS aLSO tHE mOST-vISITED wEBSITE iN tHE wORLD.\n"
     ]
    }
   ],
   "source": [
    "print(msg.title().swapcase().replace('A', 'B'))\n"
   ]
  }
 ],
 "metadata": {
  "interpreter": {
   "hash": "c5e48f84046969b800ff52f6d80523bcd1ca3fb1a99f1449e4197bf6c73dc096"
  },
  "kernelspec": {
   "display_name": "Python 3.8.5 64-bit (system)",
   "language": "python",
   "name": "python3"
  },
  "language_info": {
   "codemirror_mode": {
    "name": "ipython",
    "version": 3
   },
   "file_extension": ".py",
   "mimetype": "text/x-python",
   "name": "python",
   "nbconvert_exporter": "python",
   "pygments_lexer": "ipython3",
   "version": "3.8.5"
  },
  "orig_nbformat": 4
 },
 "nbformat": 4,
 "nbformat_minor": 2
}
