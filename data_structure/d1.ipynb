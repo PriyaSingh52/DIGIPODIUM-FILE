{
 "cells": [
  {
   "cell_type": "code",
   "execution_count": null,
   "metadata": {},
   "outputs": [],
   "source": [
    "l = ['Ravi Prakash', 100, 22, 226022, 'Lucknow','Regional manger',True,False]"
   ]
  },
  {
   "cell_type": "code",
   "execution_count": 1,
   "metadata": {},
   "outputs": [],
   "source": [
    "data = {'name': 'Ravi Prakash', 'eid': 100, 'age': 22, 'Pincode': 226022,\n",
    "'city': 'Lucknow', 'desig': 'Regional manger', 'is_married':True, 'have_children':True }"
   ]
  },
  {
   "cell_type": "code",
   "execution_count": 2,
   "metadata": {},
   "outputs": [
    {
     "name": "stdout",
     "output_type": "stream",
     "text": [
      "{'name': 'Ravi Prakash', 'eid': 100, 'age': 22, 'Pincode': 226022, 'city': 'Lucknow', 'desig': 'Regional manger', 'is_married': True, 'have_children': True}\n"
     ]
    }
   ],
   "source": [
    "print(data)"
   ]
  },
  {
   "cell_type": "code",
   "execution_count": 3,
   "metadata": {},
   "outputs": [
    {
     "data": {
      "text/plain": [
       "'Regional manger'"
      ]
     },
     "execution_count": 3,
     "metadata": {},
     "output_type": "execute_result"
    }
   ],
   "source": [
    "data['desig']"
   ]
  },
  {
   "cell_type": "code",
   "execution_count": 4,
   "metadata": {},
   "outputs": [],
   "source": [
    "data['age'] = 23  # update"
   ]
  },
  {
   "cell_type": "code",
   "execution_count": 8,
   "metadata": {},
   "outputs": [
    {
     "data": {
      "text/plain": [
       "{'name': 'Ravi Prakash',\n",
       " 'eid': 100,\n",
       " 'age': 23,\n",
       " 'Pincode': 226022,\n",
       " 'city': 'Lucknow',\n",
       " 'desig': 'Regional manger',\n",
       " 'is_married': True,\n",
       " 'have_children': True,\n",
       " 'dept': 'sales'}"
      ]
     },
     "execution_count": 8,
     "metadata": {},
     "output_type": "execute_result"
    }
   ],
   "source": [
    "data"
   ]
  },
  {
   "cell_type": "code",
   "execution_count": 9,
   "metadata": {},
   "outputs": [],
   "source": [
    "data['dept'] = 'sales' # adding data"
   ]
  },
  {
   "cell_type": "code",
   "execution_count": 12,
   "metadata": {},
   "outputs": [
    {
     "data": {
      "text/plain": [
       "{'name': 'Ravi Prakash',\n",
       " 'eid': 100,\n",
       " 'age': 23,\n",
       " 'Pincode': 226022,\n",
       " 'city': 'Lucknow',\n",
       " 'desig': 'Regional manger',\n",
       " 'have_children': True,\n",
       " 'dept': 'sales'}"
      ]
     },
     "execution_count": 12,
     "metadata": {},
     "output_type": "execute_result"
    }
   ],
   "source": [
    "data"
   ]
  },
  {
   "cell_type": "code",
   "execution_count": 11,
   "metadata": {},
   "outputs": [
    {
     "data": {
      "text/plain": [
       "True"
      ]
     },
     "execution_count": 11,
     "metadata": {},
     "output_type": "execute_result"
    }
   ],
   "source": [
    "data.pop('is_married') # remove"
   ]
  },
  {
   "cell_type": "code",
   "execution_count": 13,
   "metadata": {},
   "outputs": [
    {
     "name": "stdout",
     "output_type": "stream",
     "text": [
      "name\n",
      "eid\n",
      "age\n",
      "Pincode\n",
      "city\n",
      "desig\n",
      "have_children\n",
      "dept\n"
     ]
    }
   ],
   "source": [
    "# basic loop\n",
    "for i in data:\n",
    "    print(i)"
   ]
  },
  {
   "cell_type": "code",
   "execution_count": 14,
   "metadata": {},
   "outputs": [
    {
     "name": "stdout",
     "output_type": "stream",
     "text": [
      "name Ravi Prakash\n",
      "eid 100\n",
      "age 23\n",
      "Pincode 226022\n",
      "city Lucknow\n",
      "desig Regional manger\n",
      "have_children True\n",
      "dept sales\n"
     ]
    }
   ],
   "source": [
    "# actual loop\n",
    "for k, v in data.items():\n",
    "    print(k,v)\n"
   ]
  },
  {
   "cell_type": "code",
   "execution_count": 15,
   "metadata": {},
   "outputs": [
    {
     "name": "stdout",
     "output_type": "stream",
     "text": [
      "name Ravi Prakash\n",
      "eid 100\n",
      "age 23\n",
      "Pincode 226022\n",
      "city Lucknow\n",
      "desig Regional manger\n",
      "have_children True\n",
      "dept sales\n"
     ]
    }
   ],
   "source": [
    "# this also works\n",
    "for i in data:\n",
    "    print(i, data[i])"
   ]
  },
  {
   "cell_type": "code",
   "execution_count": 16,
   "metadata": {},
   "outputs": [
    {
     "name": "stdout",
     "output_type": "stream",
     "text": [
      "[1, 2, 3, 4, 5, 6, 7]\n",
      "[2, 4, 6]\n"
     ]
    }
   ],
   "source": [
    "# odd indexes from a lists\n",
    "x = [1,2,3,4,5,6,7,]\n",
    "x_odd = x[1::2]\n",
    "print(x)\n",
    "print(x_odd)"
   ]
  },
  {
   "cell_type": "code",
   "execution_count": 17,
   "metadata": {},
   "outputs": [
    {
     "name": "stdout",
     "output_type": "stream",
     "text": [
      "[2, 4, 6, 2, 4, 6]\n"
     ]
    }
   ],
   "source": [
    "x = [1,2,3,4,5,6,7,]\n",
    "x_odd = x[1::2]\n",
    "for i, v in enumerate(x):\n",
    "    if i%2 !=0:\n",
    "        x_odd.append(v)\n",
    "print(x_odd)        "
   ]
  },
  {
   "cell_type": "code",
   "execution_count": 22,
   "metadata": {},
   "outputs": [
    {
     "name": "stdout",
     "output_type": "stream",
     "text": [
      "{'name': 'rose', 'age': '23', 'city': 'lko', 'no': '2334556765', 'pin': '231303'}\n"
     ]
    }
   ],
   "source": [
    "user_data = {}\n",
    "for i in range(5):\n",
    "    x = input(\"key \")\n",
    "    y = input(\"value\")\n",
    "    user_data[x] = y\n",
    "print(user_data)    \n",
    "    \n"
   ]
  },
  {
   "cell_type": "code",
   "execution_count": 26,
   "metadata": {},
   "outputs": [],
   "source": [
    "# store student marks in a dict\n",
    "report = {\n",
    "    'Raja': {\n",
    "        'eng' : [50,100],\n",
    "        'hindi' : [40, 83],\n",
    "        'maths' : [45,67],\n",
    "    },\n",
    "    'Rani' :{\n",
    "        'eng' : [70,90],\n",
    "        'hindi' : [90, 83],\n",
    "        'maths' : [85,97],\n",
    "    },\n",
    "    \n",
    "}"
   ]
  },
  {
   "cell_type": "code",
   "execution_count": 27,
   "metadata": {},
   "outputs": [
    {
     "name": "stdout",
     "output_type": "stream",
     "text": [
      "{'Raja': {'eng': [50, 100], 'hindi': [40, 83], 'maths': [45, 67], 'comp': [50, 90]}, 'Rani': {'eng': [70, 90], 'hindi': [90, 83], 'maths': [85, 97]}}\n"
     ]
    }
   ],
   "source": [
    "report['Raja']['comp'] = [50,90]\n",
    "print(report)"
   ]
  },
  {
   "cell_type": "code",
   "execution_count": 33,
   "metadata": {},
   "outputs": [
    {
     "name": "stdout",
     "output_type": "stream",
     "text": [
      "('Raja', {'eng': [50, 100], 'hindi': [40, 83], 'maths': [45, 67], 'comp': [50, 90]})\n",
      "('Rani', {'eng': [70, 90], 'hindi': [90, 83], 'maths': [85, 97]})\n"
     ]
    }
   ],
   "source": [
    "for i in report.items():\n",
    "    print(i)"
   ]
  },
  {
   "cell_type": "code",
   "execution_count": 36,
   "metadata": {},
   "outputs": [
    {
     "name": "stdout",
     "output_type": "stream",
     "text": [
      "Raja\n",
      " =>eng = [50, 100]\n",
      " =>hindi = [40, 83]\n",
      " =>maths = [45, 67]\n",
      " =>comp = [50, 90]\n",
      "Rani\n",
      " =>eng = [70, 90]\n",
      " =>hindi = [90, 83]\n",
      " =>maths = [85, 97]\n"
     ]
    }
   ],
   "source": [
    "for name,marks in report.items():\n",
    "    print(name)\n",
    "    for subject, val in marks.items():\n",
    "        print(f' =>{subject} = {val}')"
   ]
  },
  {
   "cell_type": "code",
   "execution_count": null,
   "metadata": {},
   "outputs": [],
   "source": [
    "# wap to create a contact dictionary, whil willl have some names and phone numbers. The user can search for name through input. \n",
    "#if the name  is in the dictionary , then display the phone number alse, ask the user to add the number of the person by him\\her self.\n",
    "contact = {'police':112, 'hospital': 109}"
   ]
  },
  {
   "cell_type": "code",
   "execution_count": null,
   "metadata": {},
   "outputs": [],
   "source": [
    "ord('A')"
   ]
  }
 ],
 "metadata": {
  "interpreter": {
   "hash": "5e0681609514bf6c6807dacac17624d43ba290ba9a6d26af0adba1b1df189f9d"
  },
  "kernelspec": {
   "display_name": "Python 3.9.12 64-bit",
   "language": "python",
   "name": "python3"
  },
  "language_info": {
   "codemirror_mode": {
    "name": "ipython",
    "version": 3
   },
   "file_extension": ".py",
   "mimetype": "text/x-python",
   "name": "python",
   "nbconvert_exporter": "python",
   "pygments_lexer": "ipython3",
   "version": "3.9.12"
  },
  "orig_nbformat": 4
 },
 "nbformat": 4,
 "nbformat_minor": 2
}
