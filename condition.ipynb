{
 "cells": [
  {
   "cell_type": "code",
   "execution_count": 6,
   "metadata": {},
   "outputs": [],
   "source": [
    "a = 10 \n",
    "b = 3"
   ]
  },
  {
   "cell_type": "code",
   "execution_count": 7,
   "metadata": {},
   "outputs": [
    {
     "name": "stdout",
     "output_type": "stream",
     "text": [
      "Okay\n",
      "I understand\n"
     ]
    }
   ],
   "source": [
    "if a > 5:\n",
    "    print(\"Okay\")\n",
    "    print('I understand')\n"
   ]
  },
  {
   "cell_type": "code",
   "execution_count": 8,
   "metadata": {},
   "outputs": [],
   "source": [
    "if a < 5:\n",
    "    print('A is less than 5')\n",
    "    print('Awesome')"
   ]
  },
  {
   "cell_type": "code",
   "execution_count": 16,
   "metadata": {},
   "outputs": [
    {
     "name": "stdout",
     "output_type": "stream",
     "text": [
      "The value of A: 72\n"
     ]
    }
   ],
   "source": [
    "a =int(input('Enter a number:'))\n",
    "if a > 50:\n",
    "    a += 10\n",
    "print(f\"The value of A: {a}\")"
   ]
  },
  {
   "cell_type": "code",
   "execution_count": 18,
   "metadata": {},
   "outputs": [
    {
     "name": "stdout",
     "output_type": "stream",
     "text": [
      "the 72 + 3 => 75\n"
     ]
    }
   ],
   "source": [
    "result = f'the {a} + {b} => {a+b}'\n",
    "print(result)\n"
   ]
  },
  {
   "cell_type": "code",
   "execution_count": 22,
   "metadata": {},
   "outputs": [
    {
     "name": "stdout",
     "output_type": "stream",
     "text": [
      "Nice\n"
     ]
    }
   ],
   "source": [
    "if a > b:\n",
    "    print('Nice')\n",
    "else:\n",
    "print('Bad')"
   ]
  },
  {
   "cell_type": "code",
   "execution_count": 25,
   "metadata": {},
   "outputs": [
    {
     "name": "stdout",
     "output_type": "stream",
     "text": [
      "45 is Odd\n"
     ]
    }
   ],
   "source": [
    "number = int(input(\"Enter a number\"))\n",
    "if number % 2 == 0:\n",
    "    print(f\"{number} is Even\")\n",
    "else:\n",
    "     print(f\"{number} is Odd\")\n"
   ]
  },
  {
   "cell_type": "code",
   "execution_count": 28,
   "metadata": {},
   "outputs": [
    {
     "name": "stdout",
     "output_type": "stream",
     "text": [
      "number is divisible by 5 and 7 both\n"
     ]
    }
   ],
   "source": [
    "# check if the number is divisible by 5 and 7\n",
    "number = int(input(\"Enter a number\"))\n",
    "if number % 5 == 0 and number % 7 == 0:\n",
    "    print(f'{number} is divisible by 5 and 7 both')\n",
    "else:\n",
    "    print(f'{number} is not divisible by 5 and 7')\n"
   ]
  },
  {
   "cell_type": "code",
   "execution_count": null,
   "metadata": {},
   "outputs": [],
   "source": []
  }
 ],
 "metadata": {
  "interpreter": {
   "hash": "5e0681609514bf6c6807dacac17624d43ba290ba9a6d26af0adba1b1df189f9d"
  },
  "kernelspec": {
   "display_name": "Python 3.9.12 64-bit",
   "language": "python",
   "name": "python3"
  },
  "language_info": {
   "codemirror_mode": {
    "name": "ipython",
    "version": 3
   },
   "file_extension": ".py",
   "mimetype": "text/x-python",
   "name": "python",
   "nbconvert_exporter": "python",
   "pygments_lexer": "ipython3",
   "version": "3.9.12"
  },
  "orig_nbformat": 4
 },
 "nbformat": 4,
 "nbformat_minor": 2
}
